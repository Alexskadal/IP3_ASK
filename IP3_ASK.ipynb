{
 "cells": [
  {
   "cell_type": "markdown",
   "id": "a8566c1e",
   "metadata": {},
   "source": [
    "# Individual Project 2, Data Science, Alexander Kyrkjeeide, Fall 2023"
   ]
  },
  {
   "cell_type": "code",
   "execution_count": 1,
   "id": "2e1806d9",
   "metadata": {},
   "outputs": [],
   "source": [
    "import pandas as pd"
   ]
  },
  {
   "cell_type": "markdown",
   "id": "eb4eaeda",
   "metadata": {},
   "source": [
    "# Task 1; Read the file into a dataset named “df”. "
   ]
  },
  {
   "cell_type": "code",
   "execution_count": 2,
   "id": "84bbe57d",
   "metadata": {},
   "outputs": [],
   "source": [
    "df = pd.read_csv('weather_2012.csv')"
   ]
  },
  {
   "cell_type": "markdown",
   "id": "884c2b8c",
   "metadata": {},
   "source": [
    "# Task 2; Display the first five rows of the dataset, the last five rows of the dataset and a sample of five random rows from the dataset"
   ]
  },
  {
   "cell_type": "code",
   "execution_count": 3,
   "id": "c7e0966f",
   "metadata": {},
   "outputs": [
    {
     "name": "stdout",
     "output_type": "stream",
     "text": [
      "First 5 rows:\n",
      "          Date/Time  Temp (C)  Dew Point Temp (C)  Rel Hum (%)  \\\n",
      "0  01/01/2012 00:00      -1.8                -3.9           86   \n",
      "1  01/01/2012 01:00      -1.8                -3.7           87   \n",
      "2  01/01/2012 02:00      -1.8                -3.4           89   \n",
      "3  01/01/2012 03:00      -1.5                -3.2           88   \n",
      "4  01/01/2012 04:00      -1.5                -3.3           88   \n",
      "\n",
      "   Wind Spd (km/h)  Visibility (km)  Stn Press (kPa)               Weather  \n",
      "0                4              8.0           101.24                   Fog  \n",
      "1                4              8.0           101.24                   Fog  \n",
      "2                7              4.0           101.26  Freezing Drizzle,Fog  \n",
      "3                6              4.0           101.27  Freezing Drizzle,Fog  \n",
      "4                7              4.8           101.23                   Fog  \n",
      "\n",
      "Last 5 rows:\n",
      "             Date/Time  Temp (C)  Dew Point Temp (C)  Rel Hum (%)  \\\n",
      "8779  31/12/2012 19:00       0.1                -2.7           81   \n",
      "8780  31/12/2012 20:00       0.2                -2.4           83   \n",
      "8781  31/12/2012 21:00      -0.5                -1.5           93   \n",
      "8782  31/12/2012 22:00      -0.2                -1.8           89   \n",
      "8783  31/12/2012 23:00       0.0                -2.1           86   \n",
      "\n",
      "      Wind Spd (km/h)  Visibility (km)  Stn Press (kPa) Weather  \n",
      "8779               30              9.7           100.13    Snow  \n",
      "8780               24              9.7           100.03    Snow  \n",
      "8781               28              4.8            99.95    Snow  \n",
      "8782               28              9.7            99.91    Snow  \n",
      "8783               30             11.3            99.89    Snow  \n",
      "\n",
      "Random 5 rows:\n",
      "             Date/Time  Temp (C)  Dew Point Temp (C)  Rel Hum (%)  \\\n",
      "6790  09/10/2012 22:00      10.6                 7.4           81   \n",
      "4705  15/07/2012 01:00      25.2                18.7           67   \n",
      "5043  29/07/2012 03:00      17.1                10.8           66   \n",
      "7018  19/10/2012 10:00      13.1                11.0           87   \n",
      "7494  08/11/2012 06:00      -1.4                -5.7           72   \n",
      "\n",
      "      Wind Spd (km/h)  Visibility (km)  Stn Press (kPa)       Weather  \n",
      "6790               17             25.0           101.32  Mainly Clear  \n",
      "4705                9             25.0           101.29         Clear  \n",
      "5043               15             25.0           101.14  Mainly Clear  \n",
      "7018               24             25.0           100.79  Rain Showers  \n",
      "7494               19             25.0           101.42  Mainly Clear  \n"
     ]
    }
   ],
   "source": [
    "print(\"First 5 rows:\")\n",
    "print(df.head())\n",
    "print(\"\\nLast 5 rows:\")\n",
    "print(df.tail())\n",
    "print(\"\\nRandom 5 rows:\")\n",
    "print(df.sample(5))"
   ]
  },
  {
   "cell_type": "markdown",
   "id": "f80223a0",
   "metadata": {},
   "source": [
    "# Task 3; display a list of all of the columns in the dataset."
   ]
  },
  {
   "cell_type": "code",
   "execution_count": 4,
   "id": "6f3e8fc6",
   "metadata": {},
   "outputs": [
    {
     "name": "stdout",
     "output_type": "stream",
     "text": [
      "\n",
      "Column Names:\n",
      "Index(['Date/Time', 'Temp (C)', 'Dew Point Temp (C)', 'Rel Hum (%)',\n",
      "       'Wind Spd (km/h)', 'Visibility (km)', 'Stn Press (kPa)', 'Weather'],\n",
      "      dtype='object')\n"
     ]
    }
   ],
   "source": [
    "print(\"\\nColumn Names:\")\n",
    "print(df.columns)"
   ]
  },
  {
   "cell_type": "markdown",
   "id": "4cef8c19",
   "metadata": {},
   "source": [
    "# Task 4; Rename them according to this list {date_time, temp_c, dew_point, relative_humidity, wind_speed, visibility, pressure, and weather}.  Keep a copy of the original columns so we can change them back  if needed at the end of our analysis."
   ]
  },
  {
   "cell_type": "code",
   "execution_count": 5,
   "id": "c1558a62",
   "metadata": {},
   "outputs": [
    {
     "name": "stdout",
     "output_type": "stream",
     "text": [
      "Renaming 'Date/Time' to 'date_time'\n",
      "Renaming 'Temp (C)' to 'temp_c'\n",
      "Renaming 'Dew Point Temp (C)' to 'dew_point'\n",
      "Renaming 'Rel Hum (%)' to 'relative_humidity'\n",
      "Renaming 'Wind Spd (km/h)' to 'wind_speed'\n",
      "Renaming 'Visibility (km)' to 'visibility'\n",
      "Renaming 'Stn Press (kPa)' to 'pressure'\n",
      "Renaming 'Weather' to 'weather'\n"
     ]
    }
   ],
   "source": [
    "\n",
    "column_mapping = {\n",
    "    'Date/Time': 'date_time',\n",
    "    'Temp (C)': 'temp_c',\n",
    "    'Dew Point Temp (C)': 'dew_point',\n",
    "    'Rel Hum (%)': 'relative_humidity',\n",
    "    'Wind Spd (km/h)': 'wind_speed',\n",
    "    'Visibility (km)': 'visibility',\n",
    "    'Stn Press (kPa)': 'pressure',\n",
    "    'Weather': 'weather'\n",
    "}\n",
    "\n",
    "# Print the original and new column names\n",
    "for original, new in column_mapping.items():\n",
    "    print(f\"Renaming '{original}' to '{new}'\")\n",
    "\n",
    "df.rename(columns=column_mapping, inplace=True)"
   ]
  },
  {
   "cell_type": "markdown",
   "id": "75f0da28",
   "metadata": {},
   "source": [
    "# Task 5; Most of the data in the dataset are numerical, write the code to get some standard statistics for each column (e.g. count, mean, etc.)"
   ]
  },
  {
   "cell_type": "code",
   "execution_count": 6,
   "id": "9667629f",
   "metadata": {},
   "outputs": [
    {
     "name": "stdout",
     "output_type": "stream",
     "text": [
      "\n",
      "Standard Statistics:\n",
      "            temp_c    dew_point  relative_humidity   wind_speed   visibility  \\\n",
      "count  8784.000000  8784.000000        8784.000000  8784.000000  8784.000000   \n",
      "mean      8.798144     2.555294          67.431694    14.945469    27.664447   \n",
      "std      11.687883    10.883072          16.918881     8.688696    12.622688   \n",
      "min     -23.300000   -28.500000          18.000000     0.000000     0.200000   \n",
      "25%       0.100000    -5.900000          56.000000     9.000000    24.100000   \n",
      "50%       9.300000     3.300000          68.000000    13.000000    25.000000   \n",
      "75%      18.800000    11.800000          81.000000    20.000000    25.000000   \n",
      "max      33.000000    24.400000         100.000000    83.000000    48.300000   \n",
      "\n",
      "          pressure  \n",
      "count  8784.000000  \n",
      "mean    101.051623  \n",
      "std       0.844005  \n",
      "min      97.520000  \n",
      "25%     100.560000  \n",
      "50%     101.070000  \n",
      "75%     101.590000  \n",
      "max     103.650000  \n"
     ]
    }
   ],
   "source": [
    "#Task 5 \n",
    "print(\"\\nStandard Statistics:\")\n",
    "print(df.describe())"
   ]
  },
  {
   "cell_type": "markdown",
   "id": "da1e8789",
   "metadata": {},
   "source": [
    "# Task 6; Write the code to add a column named temp_f to the dataset that contains the temperature from temp_c represented in Fahrenheit. "
   ]
  },
  {
   "cell_type": "code",
   "execution_count": 7,
   "id": "eb160351",
   "metadata": {},
   "outputs": [
    {
     "name": "stdout",
     "output_type": "stream",
     "text": [
      "\n",
      "DataFrame with 'temp_f' column:\n",
      "             date_time  temp_c  dew_point  relative_humidity  wind_speed  \\\n",
      "0     01/01/2012 00:00    -1.8       -3.9                 86           4   \n",
      "1     01/01/2012 01:00    -1.8       -3.7                 87           4   \n",
      "2     01/01/2012 02:00    -1.8       -3.4                 89           7   \n",
      "3     01/01/2012 03:00    -1.5       -3.2                 88           6   \n",
      "4     01/01/2012 04:00    -1.5       -3.3                 88           7   \n",
      "...                ...     ...        ...                ...         ...   \n",
      "8779  31/12/2012 19:00     0.1       -2.7                 81          30   \n",
      "8780  31/12/2012 20:00     0.2       -2.4                 83          24   \n",
      "8781  31/12/2012 21:00    -0.5       -1.5                 93          28   \n",
      "8782  31/12/2012 22:00    -0.2       -1.8                 89          28   \n",
      "8783  31/12/2012 23:00     0.0       -2.1                 86          30   \n",
      "\n",
      "      visibility  pressure               weather  temp_f  \n",
      "0            8.0    101.24                   Fog   28.76  \n",
      "1            8.0    101.24                   Fog   28.76  \n",
      "2            4.0    101.26  Freezing Drizzle,Fog   28.76  \n",
      "3            4.0    101.27  Freezing Drizzle,Fog   29.30  \n",
      "4            4.8    101.23                   Fog   29.30  \n",
      "...          ...       ...                   ...     ...  \n",
      "8779         9.7    100.13                  Snow   32.18  \n",
      "8780         9.7    100.03                  Snow   32.36  \n",
      "8781         4.8     99.95                  Snow   31.10  \n",
      "8782         9.7     99.91                  Snow   31.64  \n",
      "8783        11.3     99.89                  Snow   32.00  \n",
      "\n",
      "[8784 rows x 9 columns]\n"
     ]
    }
   ],
   "source": [
    "\n",
    "df['temp_f'] = (df['temp_c'] * 9/5) + 32\n",
    "\n",
    "print(\"\\nDataFrame with 'temp_f' column:\")\n",
    "print(df)"
   ]
  },
  {
   "cell_type": "markdown",
   "id": "04b7cc73",
   "metadata": {},
   "source": [
    "# Task 7; Write the code to rearrange the columns in the dataset so temp_f appears immediately before temp_c."
   ]
  },
  {
   "cell_type": "code",
   "execution_count": 8,
   "id": "5677b4eb",
   "metadata": {},
   "outputs": [],
   "source": [
    "df = df[['date_time', 'temp_f', 'temp_c', 'dew_point', 'relative_humidity', 'wind_speed', 'visibility', 'pressure', 'weather']]"
   ]
  },
  {
   "cell_type": "markdown",
   "id": "2589df5f",
   "metadata": {},
   "source": [
    "# Task 8; Write the code to display the data types of all the columns in the dataset."
   ]
  },
  {
   "cell_type": "code",
   "execution_count": 9,
   "id": "4c9f1b10",
   "metadata": {},
   "outputs": [
    {
     "name": "stdout",
     "output_type": "stream",
     "text": [
      "\n",
      "Data Types:\n",
      "date_time             object\n",
      "temp_f               float64\n",
      "temp_c               float64\n",
      "dew_point            float64\n",
      "relative_humidity      int64\n",
      "wind_speed             int64\n",
      "visibility           float64\n",
      "pressure             float64\n",
      "weather               object\n",
      "dtype: object\n"
     ]
    }
   ],
   "source": [
    "\n",
    "print(\"\\nData Types:\")\n",
    "print(df.dtypes)"
   ]
  },
  {
   "cell_type": "markdown",
   "id": "f0222f1b",
   "metadata": {},
   "source": [
    "# Task 9; Write the code to convert this column to a date/time column. Verify the conversion was successful."
   ]
  },
  {
   "cell_type": "code",
   "execution_count": 10,
   "id": "b3ff1ba6",
   "metadata": {},
   "outputs": [
    {
     "name": "stdout",
     "output_type": "stream",
     "text": [
      "\n",
      "Data Type after conversion:\n",
      "datetime64[ns]\n"
     ]
    }
   ],
   "source": [
    "df['date_time'] = pd.to_datetime(df['date_time'])\n",
    "print(\"\\nData Type after conversion:\")\n",
    "print(df['date_time'].dtype)"
   ]
  },
  {
   "cell_type": "markdown",
   "id": "f75b3895",
   "metadata": {},
   "source": [
    "# Task 10; Write the code to get a count of the different weather designations in the weather column and display top 10 weather categories."
   ]
  },
  {
   "cell_type": "code",
   "execution_count": 16,
   "id": "1a2581e1",
   "metadata": {},
   "outputs": [
    {
     "name": "stdout",
     "output_type": "stream",
     "text": [
      "\n",
      "Weather Counts (Top 10):\n",
      "Mainly Clear     2106\n",
      "Mostly Cloudy    2069\n",
      "Cloudy           1728\n",
      "Clear            1326\n",
      "Snow              390\n",
      "Rain              306\n",
      "Rain Showers      188\n",
      "Fog               150\n",
      "Rain,Fog          116\n",
      "Drizzle,Fog        80\n",
      "Name: weather, dtype: int64\n"
     ]
    }
   ],
   "source": [
    "weather_counts = df['weather'].value_counts().head(10)\n",
    "print(\"\\nWeather Counts (Top 10):\")\n",
    "print(weather_counts)"
   ]
  },
  {
   "cell_type": "markdown",
   "id": "5bc822f3",
   "metadata": {},
   "source": [
    "# Task 11; Which month of the year, the temp_f more than 90, humidity less than 50 , dew point more than 17, and the weather is clear? Extract that data and save it to a new data frame."
   ]
  },
  {
   "cell_type": "code",
   "execution_count": 12,
   "id": "69663f83",
   "metadata": {},
   "outputs": [
    {
     "name": "stdout",
     "output_type": "stream",
     "text": [
      "\n",
      "Data meeting conditions:\n",
      "               date_time  temp_f  temp_c  dew_point  relative_humidity  \\\n",
      "5199 2012-04-08 15:00:00   91.04    32.8       18.8                 44   \n",
      "5200 2012-04-08 16:00:00   90.50    32.5       18.5                 44   \n",
      "5201 2012-04-08 17:00:00   90.50    32.5       19.8                 47   \n",
      "\n",
      "      wind_speed  visibility  pressure weather  \n",
      "5199          17        24.1    101.39   Clear  \n",
      "5200          15        24.1    101.34   Clear  \n",
      "5201          13        24.1    101.32   Clear  \n"
     ]
    }
   ],
   "source": [
    "filtered_data = df[(df['temp_f'] > 90) & (df['relative_humidity'] < 50) & (df['dew_point'] > 17) & (df['weather'] == 'Clear')]\n",
    "print(\"\\nData meeting conditions:\")\n",
    "print(filtered_data)"
   ]
  },
  {
   "cell_type": "markdown",
   "id": "d222ec77",
   "metadata": {},
   "source": [
    "# Task 12; Extract the month information from the date_time column and add a month column at the data frame. (example: dt.month)"
   ]
  },
  {
   "cell_type": "code",
   "execution_count": 15,
   "id": "a3d8107c",
   "metadata": {},
   "outputs": [
    {
     "name": "stdout",
     "output_type": "stream",
     "text": [
      "\n",
      "DataFrame with 'month' column:\n",
      "               date_time  temp_f  temp_c  dew_point  relative_humidity  \\\n",
      "5199 2012-04-08 15:00:00   91.04    32.8       18.8                 44   \n",
      "5200 2012-04-08 16:00:00   90.50    32.5       18.5                 44   \n",
      "5201 2012-04-08 17:00:00   90.50    32.5       19.8                 47   \n",
      "\n",
      "      wind_speed  visibility  pressure weather  month  \n",
      "5199          17        24.1    101.39   Clear      4  \n",
      "5200          15        24.1    101.34   Clear      4  \n",
      "5201          13        24.1    101.32   Clear      4  \n"
     ]
    },
    {
     "name": "stderr",
     "output_type": "stream",
     "text": [
      "C:\\Users\\alexs\\AppData\\Local\\Temp\\ipykernel_22476\\3604638879.py:2: SettingWithCopyWarning: \n",
      "A value is trying to be set on a copy of a slice from a DataFrame.\n",
      "Try using .loc[row_indexer,col_indexer] = value instead\n",
      "\n",
      "See the caveats in the documentation: https://pandas.pydata.org/pandas-docs/stable/user_guide/indexing.html#returning-a-view-versus-a-copy\n",
      "  filtered_data['month'] = filtered_data['date_time'].dt.month\n"
     ]
    }
   ],
   "source": [
    "#Task 12\n",
    "filtered_data['month'] = filtered_data['date_time'].dt.month\n",
    "\n",
    "# Display the DataFrame with the 'month' column added\n",
    "print(\"\\nDataFrame with 'month' column:\")\n",
    "print(filtered_data)"
   ]
  },
  {
   "cell_type": "markdown",
   "id": "9207411a",
   "metadata": {},
   "source": [
    "# Task 13; Save your original dataframe to (‘weather_2012_new.csv’) – ensure your file does not contain the index column of the dataset."
   ]
  },
  {
   "cell_type": "code",
   "execution_count": 14,
   "id": "891bf9b0",
   "metadata": {},
   "outputs": [],
   "source": [
    "#Task 13\n",
    "df.to_csv('weather_2012_new.csv', index=False)"
   ]
  }
 ],
 "metadata": {
  "kernelspec": {
   "display_name": "Python 3 (ipykernel)",
   "language": "python",
   "name": "python3"
  },
  "language_info": {
   "codemirror_mode": {
    "name": "ipython",
    "version": 3
   },
   "file_extension": ".py",
   "mimetype": "text/x-python",
   "name": "python",
   "nbconvert_exporter": "python",
   "pygments_lexer": "ipython3",
   "version": "3.9.13"
  }
 },
 "nbformat": 4,
 "nbformat_minor": 5
}
